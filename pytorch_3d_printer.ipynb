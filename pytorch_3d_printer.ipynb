{
  "cells": [
    {
      "cell_type": "markdown",
      "metadata": {
        "id": "view-in-github",
        "colab_type": "text"
      },
      "source": [
        "<a href=\"https://colab.research.google.com/github/M-L-Liebl/3d_printer/blob/master/pytorch_3d_printer.ipynb\" target=\"_parent\"><img src=\"https://colab.research.google.com/assets/colab-badge.svg\" alt=\"Open In Colab\"/></a>"
      ]
    },
    {
      "cell_type": "markdown",
      "id": "f440951a",
      "metadata": {
        "id": "f440951a"
      },
      "source": [
        "# Building a Basic Neural Network with PyTorch"
      ]
    },
    {
      "cell_type": "markdown",
      "id": "546e1842",
      "metadata": {
        "id": "546e1842"
      },
      "source": [
        "### Objective\n",
        "In this exercise, we’ll build a simple neural network using PyTorch to predict **tensile strength** from various 3D printing parameters. This exercise will cover:\n",
        "- Data preprocessing and splitting\n",
        "- Defining a neural network architecture in PyTorch\n",
        "- Training and evaluating the model\n",
        "- Visualizing the training progress\n"
      ]
    },
    {
      "cell_type": "markdown",
      "id": "cf1433c5",
      "metadata": {
        "id": "cf1433c5"
      },
      "source": [
        "### Step 1: Load and Inspect Data"
      ]
    },
    {
      "cell_type": "code",
      "execution_count": 2,
      "id": "f0b216be",
      "metadata": {
        "id": "f0b216be",
        "outputId": "6ac2f25b-5e1d-4649-e57a-57a52229a8e1",
        "colab": {
          "base_uri": "https://localhost:8080/",
          "height": 206
        }
      },
      "outputs": [
        {
          "output_type": "execute_result",
          "data": {
            "text/plain": [
              "   layer_height  wall_thickness  infill_density infill_pattern  \\\n",
              "0          0.02             8.0            90.0           grid   \n",
              "1          0.02             7.0            90.0      honeycomb   \n",
              "2          0.02             1.0            80.0           grid   \n",
              "3          0.02             4.0            70.0      honeycomb   \n",
              "4          0.02             6.0            90.0           grid   \n",
              "\n",
              "   nozzle_temperature  bed_temperature  print_speed material  fan_speed  \\\n",
              "0               220.0             60.0         40.0      abs        0.0   \n",
              "1               225.0             65.0         40.0      abs       25.0   \n",
              "2               230.0             70.0         40.0      abs       50.0   \n",
              "3               240.0             75.0         40.0      abs       75.0   \n",
              "4               250.0             80.0         40.0      abs      100.0   \n",
              "\n",
              "   tension_strenght  elongation  roughness  \n",
              "0              18.0         1.2       25.0  \n",
              "1              16.0         1.4       32.0  \n",
              "2               8.0         0.8       40.0  \n",
              "3              10.0         0.5       68.0  \n",
              "4               5.0         0.7       92.0  "
            ],
            "text/html": [
              "\n",
              "  <div id=\"df-aace5e7c-3154-4114-9f30-6cb7bbb1e2e8\" class=\"colab-df-container\">\n",
              "    <div>\n",
              "<style scoped>\n",
              "    .dataframe tbody tr th:only-of-type {\n",
              "        vertical-align: middle;\n",
              "    }\n",
              "\n",
              "    .dataframe tbody tr th {\n",
              "        vertical-align: top;\n",
              "    }\n",
              "\n",
              "    .dataframe thead th {\n",
              "        text-align: right;\n",
              "    }\n",
              "</style>\n",
              "<table border=\"1\" class=\"dataframe\">\n",
              "  <thead>\n",
              "    <tr style=\"text-align: right;\">\n",
              "      <th></th>\n",
              "      <th>layer_height</th>\n",
              "      <th>wall_thickness</th>\n",
              "      <th>infill_density</th>\n",
              "      <th>infill_pattern</th>\n",
              "      <th>nozzle_temperature</th>\n",
              "      <th>bed_temperature</th>\n",
              "      <th>print_speed</th>\n",
              "      <th>material</th>\n",
              "      <th>fan_speed</th>\n",
              "      <th>tension_strenght</th>\n",
              "      <th>elongation</th>\n",
              "      <th>roughness</th>\n",
              "    </tr>\n",
              "  </thead>\n",
              "  <tbody>\n",
              "    <tr>\n",
              "      <th>0</th>\n",
              "      <td>0.02</td>\n",
              "      <td>8.0</td>\n",
              "      <td>90.0</td>\n",
              "      <td>grid</td>\n",
              "      <td>220.0</td>\n",
              "      <td>60.0</td>\n",
              "      <td>40.0</td>\n",
              "      <td>abs</td>\n",
              "      <td>0.0</td>\n",
              "      <td>18.0</td>\n",
              "      <td>1.2</td>\n",
              "      <td>25.0</td>\n",
              "    </tr>\n",
              "    <tr>\n",
              "      <th>1</th>\n",
              "      <td>0.02</td>\n",
              "      <td>7.0</td>\n",
              "      <td>90.0</td>\n",
              "      <td>honeycomb</td>\n",
              "      <td>225.0</td>\n",
              "      <td>65.0</td>\n",
              "      <td>40.0</td>\n",
              "      <td>abs</td>\n",
              "      <td>25.0</td>\n",
              "      <td>16.0</td>\n",
              "      <td>1.4</td>\n",
              "      <td>32.0</td>\n",
              "    </tr>\n",
              "    <tr>\n",
              "      <th>2</th>\n",
              "      <td>0.02</td>\n",
              "      <td>1.0</td>\n",
              "      <td>80.0</td>\n",
              "      <td>grid</td>\n",
              "      <td>230.0</td>\n",
              "      <td>70.0</td>\n",
              "      <td>40.0</td>\n",
              "      <td>abs</td>\n",
              "      <td>50.0</td>\n",
              "      <td>8.0</td>\n",
              "      <td>0.8</td>\n",
              "      <td>40.0</td>\n",
              "    </tr>\n",
              "    <tr>\n",
              "      <th>3</th>\n",
              "      <td>0.02</td>\n",
              "      <td>4.0</td>\n",
              "      <td>70.0</td>\n",
              "      <td>honeycomb</td>\n",
              "      <td>240.0</td>\n",
              "      <td>75.0</td>\n",
              "      <td>40.0</td>\n",
              "      <td>abs</td>\n",
              "      <td>75.0</td>\n",
              "      <td>10.0</td>\n",
              "      <td>0.5</td>\n",
              "      <td>68.0</td>\n",
              "    </tr>\n",
              "    <tr>\n",
              "      <th>4</th>\n",
              "      <td>0.02</td>\n",
              "      <td>6.0</td>\n",
              "      <td>90.0</td>\n",
              "      <td>grid</td>\n",
              "      <td>250.0</td>\n",
              "      <td>80.0</td>\n",
              "      <td>40.0</td>\n",
              "      <td>abs</td>\n",
              "      <td>100.0</td>\n",
              "      <td>5.0</td>\n",
              "      <td>0.7</td>\n",
              "      <td>92.0</td>\n",
              "    </tr>\n",
              "  </tbody>\n",
              "</table>\n",
              "</div>\n",
              "    <div class=\"colab-df-buttons\">\n",
              "\n",
              "  <div class=\"colab-df-container\">\n",
              "    <button class=\"colab-df-convert\" onclick=\"convertToInteractive('df-aace5e7c-3154-4114-9f30-6cb7bbb1e2e8')\"\n",
              "            title=\"Convert this dataframe to an interactive table.\"\n",
              "            style=\"display:none;\">\n",
              "\n",
              "  <svg xmlns=\"http://www.w3.org/2000/svg\" height=\"24px\" viewBox=\"0 -960 960 960\">\n",
              "    <path d=\"M120-120v-720h720v720H120Zm60-500h600v-160H180v160Zm220 220h160v-160H400v160Zm0 220h160v-160H400v160ZM180-400h160v-160H180v160Zm440 0h160v-160H620v160ZM180-180h160v-160H180v160Zm440 0h160v-160H620v160Z\"/>\n",
              "  </svg>\n",
              "    </button>\n",
              "\n",
              "  <style>\n",
              "    .colab-df-container {\n",
              "      display:flex;\n",
              "      gap: 12px;\n",
              "    }\n",
              "\n",
              "    .colab-df-convert {\n",
              "      background-color: #E8F0FE;\n",
              "      border: none;\n",
              "      border-radius: 50%;\n",
              "      cursor: pointer;\n",
              "      display: none;\n",
              "      fill: #1967D2;\n",
              "      height: 32px;\n",
              "      padding: 0 0 0 0;\n",
              "      width: 32px;\n",
              "    }\n",
              "\n",
              "    .colab-df-convert:hover {\n",
              "      background-color: #E2EBFA;\n",
              "      box-shadow: 0px 1px 2px rgba(60, 64, 67, 0.3), 0px 1px 3px 1px rgba(60, 64, 67, 0.15);\n",
              "      fill: #174EA6;\n",
              "    }\n",
              "\n",
              "    .colab-df-buttons div {\n",
              "      margin-bottom: 4px;\n",
              "    }\n",
              "\n",
              "    [theme=dark] .colab-df-convert {\n",
              "      background-color: #3B4455;\n",
              "      fill: #D2E3FC;\n",
              "    }\n",
              "\n",
              "    [theme=dark] .colab-df-convert:hover {\n",
              "      background-color: #434B5C;\n",
              "      box-shadow: 0px 1px 3px 1px rgba(0, 0, 0, 0.15);\n",
              "      filter: drop-shadow(0px 1px 2px rgba(0, 0, 0, 0.3));\n",
              "      fill: #FFFFFF;\n",
              "    }\n",
              "  </style>\n",
              "\n",
              "    <script>\n",
              "      const buttonEl =\n",
              "        document.querySelector('#df-aace5e7c-3154-4114-9f30-6cb7bbb1e2e8 button.colab-df-convert');\n",
              "      buttonEl.style.display =\n",
              "        google.colab.kernel.accessAllowed ? 'block' : 'none';\n",
              "\n",
              "      async function convertToInteractive(key) {\n",
              "        const element = document.querySelector('#df-aace5e7c-3154-4114-9f30-6cb7bbb1e2e8');\n",
              "        const dataTable =\n",
              "          await google.colab.kernel.invokeFunction('convertToInteractive',\n",
              "                                                    [key], {});\n",
              "        if (!dataTable) return;\n",
              "\n",
              "        const docLinkHtml = 'Like what you see? Visit the ' +\n",
              "          '<a target=\"_blank\" href=https://colab.research.google.com/notebooks/data_table.ipynb>data table notebook</a>'\n",
              "          + ' to learn more about interactive tables.';\n",
              "        element.innerHTML = '';\n",
              "        dataTable['output_type'] = 'display_data';\n",
              "        await google.colab.output.renderOutput(dataTable, element);\n",
              "        const docLink = document.createElement('div');\n",
              "        docLink.innerHTML = docLinkHtml;\n",
              "        element.appendChild(docLink);\n",
              "      }\n",
              "    </script>\n",
              "  </div>\n",
              "\n",
              "\n",
              "<div id=\"df-a812bed9-340a-4454-8602-b2cac38f0233\">\n",
              "  <button class=\"colab-df-quickchart\" onclick=\"quickchart('df-a812bed9-340a-4454-8602-b2cac38f0233')\"\n",
              "            title=\"Suggest charts\"\n",
              "            style=\"display:none;\">\n",
              "\n",
              "<svg xmlns=\"http://www.w3.org/2000/svg\" height=\"24px\"viewBox=\"0 0 24 24\"\n",
              "     width=\"24px\">\n",
              "    <g>\n",
              "        <path d=\"M19 3H5c-1.1 0-2 .9-2 2v14c0 1.1.9 2 2 2h14c1.1 0 2-.9 2-2V5c0-1.1-.9-2-2-2zM9 17H7v-7h2v7zm4 0h-2V7h2v10zm4 0h-2v-4h2v4z\"/>\n",
              "    </g>\n",
              "</svg>\n",
              "  </button>\n",
              "\n",
              "<style>\n",
              "  .colab-df-quickchart {\n",
              "      --bg-color: #E8F0FE;\n",
              "      --fill-color: #1967D2;\n",
              "      --hover-bg-color: #E2EBFA;\n",
              "      --hover-fill-color: #174EA6;\n",
              "      --disabled-fill-color: #AAA;\n",
              "      --disabled-bg-color: #DDD;\n",
              "  }\n",
              "\n",
              "  [theme=dark] .colab-df-quickchart {\n",
              "      --bg-color: #3B4455;\n",
              "      --fill-color: #D2E3FC;\n",
              "      --hover-bg-color: #434B5C;\n",
              "      --hover-fill-color: #FFFFFF;\n",
              "      --disabled-bg-color: #3B4455;\n",
              "      --disabled-fill-color: #666;\n",
              "  }\n",
              "\n",
              "  .colab-df-quickchart {\n",
              "    background-color: var(--bg-color);\n",
              "    border: none;\n",
              "    border-radius: 50%;\n",
              "    cursor: pointer;\n",
              "    display: none;\n",
              "    fill: var(--fill-color);\n",
              "    height: 32px;\n",
              "    padding: 0;\n",
              "    width: 32px;\n",
              "  }\n",
              "\n",
              "  .colab-df-quickchart:hover {\n",
              "    background-color: var(--hover-bg-color);\n",
              "    box-shadow: 0 1px 2px rgba(60, 64, 67, 0.3), 0 1px 3px 1px rgba(60, 64, 67, 0.15);\n",
              "    fill: var(--button-hover-fill-color);\n",
              "  }\n",
              "\n",
              "  .colab-df-quickchart-complete:disabled,\n",
              "  .colab-df-quickchart-complete:disabled:hover {\n",
              "    background-color: var(--disabled-bg-color);\n",
              "    fill: var(--disabled-fill-color);\n",
              "    box-shadow: none;\n",
              "  }\n",
              "\n",
              "  .colab-df-spinner {\n",
              "    border: 2px solid var(--fill-color);\n",
              "    border-color: transparent;\n",
              "    border-bottom-color: var(--fill-color);\n",
              "    animation:\n",
              "      spin 1s steps(1) infinite;\n",
              "  }\n",
              "\n",
              "  @keyframes spin {\n",
              "    0% {\n",
              "      border-color: transparent;\n",
              "      border-bottom-color: var(--fill-color);\n",
              "      border-left-color: var(--fill-color);\n",
              "    }\n",
              "    20% {\n",
              "      border-color: transparent;\n",
              "      border-left-color: var(--fill-color);\n",
              "      border-top-color: var(--fill-color);\n",
              "    }\n",
              "    30% {\n",
              "      border-color: transparent;\n",
              "      border-left-color: var(--fill-color);\n",
              "      border-top-color: var(--fill-color);\n",
              "      border-right-color: var(--fill-color);\n",
              "    }\n",
              "    40% {\n",
              "      border-color: transparent;\n",
              "      border-right-color: var(--fill-color);\n",
              "      border-top-color: var(--fill-color);\n",
              "    }\n",
              "    60% {\n",
              "      border-color: transparent;\n",
              "      border-right-color: var(--fill-color);\n",
              "    }\n",
              "    80% {\n",
              "      border-color: transparent;\n",
              "      border-right-color: var(--fill-color);\n",
              "      border-bottom-color: var(--fill-color);\n",
              "    }\n",
              "    90% {\n",
              "      border-color: transparent;\n",
              "      border-bottom-color: var(--fill-color);\n",
              "    }\n",
              "  }\n",
              "</style>\n",
              "\n",
              "  <script>\n",
              "    async function quickchart(key) {\n",
              "      const quickchartButtonEl =\n",
              "        document.querySelector('#' + key + ' button');\n",
              "      quickchartButtonEl.disabled = true;  // To prevent multiple clicks.\n",
              "      quickchartButtonEl.classList.add('colab-df-spinner');\n",
              "      try {\n",
              "        const charts = await google.colab.kernel.invokeFunction(\n",
              "            'suggestCharts', [key], {});\n",
              "      } catch (error) {\n",
              "        console.error('Error during call to suggestCharts:', error);\n",
              "      }\n",
              "      quickchartButtonEl.classList.remove('colab-df-spinner');\n",
              "      quickchartButtonEl.classList.add('colab-df-quickchart-complete');\n",
              "    }\n",
              "    (() => {\n",
              "      let quickchartButtonEl =\n",
              "        document.querySelector('#df-a812bed9-340a-4454-8602-b2cac38f0233 button');\n",
              "      quickchartButtonEl.style.display =\n",
              "        google.colab.kernel.accessAllowed ? 'block' : 'none';\n",
              "    })();\n",
              "  </script>\n",
              "</div>\n",
              "\n",
              "    </div>\n",
              "  </div>\n"
            ],
            "application/vnd.google.colaboratory.intrinsic+json": {
              "type": "dataframe",
              "variable_name": "data",
              "summary": "{\n  \"name\": \"data\",\n  \"rows\": 56,\n  \"fields\": [\n    {\n      \"column\": \"layer_height\",\n      \"properties\": {\n        \"dtype\": \"number\",\n        \"std\": 0.06713221288423324,\n        \"min\": 0.02,\n        \"max\": 0.2,\n        \"num_unique_values\": 5,\n        \"samples\": [\n          0.06,\n          0.2,\n          0.1\n        ],\n        \"semantic_type\": \"\",\n        \"description\": \"\"\n      }\n    },\n    {\n      \"column\": \"wall_thickness\",\n      \"properties\": {\n        \"dtype\": \"number\",\n        \"std\": 2.8159000211820255,\n        \"min\": 1.0,\n        \"max\": 10.0,\n        \"num_unique_values\": 10,\n        \"samples\": [\n          2.0,\n          7.0,\n          10.0\n        ],\n        \"semantic_type\": \"\",\n        \"description\": \"\"\n      }\n    },\n    {\n      \"column\": \"infill_density\",\n      \"properties\": {\n        \"dtype\": \"number\",\n        \"std\": 24.696133096073766,\n        \"min\": 10.0,\n        \"max\": 90.0,\n        \"num_unique_values\": 9,\n        \"samples\": [\n          30.0,\n          80.0,\n          20.0\n        ],\n        \"semantic_type\": \"\",\n        \"description\": \"\"\n      }\n    },\n    {\n      \"column\": \"infill_pattern\",\n      \"properties\": {\n        \"dtype\": \"category\",\n        \"num_unique_values\": 2,\n        \"samples\": [\n          \"honeycomb\",\n          \"grid\"\n        ],\n        \"semantic_type\": \"\",\n        \"description\": \"\"\n      }\n    },\n    {\n      \"column\": \"nozzle_temperature\",\n      \"properties\": {\n        \"dtype\": \"number\",\n        \"std\": 14.665174396076578,\n        \"min\": 200.0,\n        \"max\": 250.0,\n        \"num_unique_values\": 9,\n        \"samples\": [\n          210.0,\n          225.0\n        ],\n        \"semantic_type\": \"\",\n        \"description\": \"\"\n      }\n    },\n    {\n      \"column\": \"bed_temperature\",\n      \"properties\": {\n        \"dtype\": \"number\",\n        \"std\": 7.136240321480627,\n        \"min\": 60.0,\n        \"max\": 80.0,\n        \"num_unique_values\": 5,\n        \"samples\": [\n          65.0,\n          80.0\n        ],\n        \"semantic_type\": \"\",\n        \"description\": \"\"\n      }\n    },\n    {\n      \"column\": \"print_speed\",\n      \"properties\": {\n        \"dtype\": \"number\",\n        \"std\": 29.128763250176743,\n        \"min\": 40.0,\n        \"max\": 120.0,\n        \"num_unique_values\": 3,\n        \"samples\": [\n          40.0,\n          60.0\n        ],\n        \"semantic_type\": \"\",\n        \"description\": \"\"\n      }\n    },\n    {\n      \"column\": \"material\",\n      \"properties\": {\n        \"dtype\": \"category\",\n        \"num_unique_values\": 2,\n        \"samples\": [\n          \"pla\",\n          \"abs\"\n        ],\n        \"semantic_type\": \"\",\n        \"description\": \"\"\n      }\n    },\n    {\n      \"column\": \"fan_speed\",\n      \"properties\": {\n        \"dtype\": \"number\",\n        \"std\": 62.6602887362625,\n        \"min\": 0.0,\n        \"max\": 432.0,\n        \"num_unique_values\": 6,\n        \"samples\": [\n          0.0,\n          25.0\n        ],\n        \"semantic_type\": \"\",\n        \"description\": \"\"\n      }\n    },\n    {\n      \"column\": \"tension_strenght\",\n      \"properties\": {\n        \"dtype\": \"number\",\n        \"std\": 9.154381115219838,\n        \"min\": 4.0,\n        \"max\": 42.0,\n        \"num_unique_values\": 27,\n        \"samples\": [\n          27.0,\n          26.0\n        ],\n        \"semantic_type\": \"\",\n        \"description\": \"\"\n      }\n    },\n    {\n      \"column\": \"elongation\",\n      \"properties\": {\n        \"dtype\": \"number\",\n        \"std\": 0.9472874618369734,\n        \"min\": 0.4,\n        \"max\": 5.0,\n        \"num_unique_values\": 30,\n        \"samples\": [\n          4.0,\n          2.0\n        ],\n        \"semantic_type\": \"\",\n        \"description\": \"\"\n      }\n    },\n    {\n      \"column\": \"roughness\",\n      \"properties\": {\n        \"dtype\": \"number\",\n        \"std\": 95.42125986915512,\n        \"min\": 21.0,\n        \"max\": 368.0,\n        \"num_unique_values\": 44,\n        \"samples\": [\n          276.0,\n          176.0\n        ],\n        \"semantic_type\": \"\",\n        \"description\": \"\"\n      }\n    }\n  ]\n}"
            }
          },
          "metadata": {},
          "execution_count": 2
        }
      ],
      "source": [
        "import pandas as pd\n",
        "\n",
        "# Load the dataset\n",
        "url = \"https://raw.githubusercontent.com/beginners-machine-learning-london/intro_to_machine_learning_with_pytorch/refs/heads/master/assets/3dprinter.csv\"\n",
        "data = pd.read_csv(url)\n",
        "\n",
        "# Display the first few rows\n",
        "data.head()\n"
      ]
    },
    {
      "cell_type": "markdown",
      "id": "14efd6dd",
      "metadata": {
        "id": "14efd6dd"
      },
      "source": [
        "### Step 2: Data Preprocessing"
      ]
    },
    {
      "cell_type": "code",
      "execution_count": 3,
      "id": "899abb22",
      "metadata": {
        "id": "899abb22"
      },
      "outputs": [],
      "source": [
        "from sklearn.model_selection import train_test_split\n",
        "from sklearn.preprocessing import StandardScaler, LabelEncoder\n",
        "import torch\n",
        "from torch.utils.data import DataLoader, TensorDataset\n",
        "\n",
        "data = data.dropna()\n",
        "# Separate features and target (roughness)\n",
        "X = data.drop(columns=[\"roughness\"])\n",
        "y = data[\"roughness\"]\n",
        "\n",
        "# Encode categorical features\n",
        "X = X.apply(lambda col: LabelEncoder().fit_transform(col) if col.dtype == \"object\" else col)\n",
        "\n",
        "# Standardize the features\n",
        "scaler = StandardScaler()\n",
        "X_scaled = scaler.fit_transform(X)\n",
        "\n",
        "# Convert to PyTorch tensors with the float32 data type\n",
        "X_tensor = torch.tensor(X_scaled, dtype=torch.float32)\n",
        "y_tensor = torch.tensor(y.values, dtype=torch.float32).view(-1, 1)\n",
        "\n",
        "# Split data into training and test sets with a 80-20 split\n",
        "X_train, X_test, y_train, y_test = train_test_split(X_tensor, y_tensor, test_size=0.2, random_state=42)\n",
        "\n",
        "# Create data loaders with 32 samples per batch. Shuffle the training set\n",
        "train_loader = DataLoader(TensorDataset(X_train, y_train), batch_size=32, shuffle=True)\n",
        "test_loader = DataLoader(TensorDataset(X_test, y_test), batch_size=32, shuffle=True)"
      ]
    },
    {
      "cell_type": "markdown",
      "id": "4acecf43",
      "metadata": {
        "id": "4acecf43"
      },
      "source": [
        "### Step 3: Define the Neural Network Model"
      ]
    },
    {
      "cell_type": "code",
      "execution_count": null,
      "id": "a4972fa7",
      "metadata": {
        "id": "a4972fa7"
      },
      "outputs": [],
      "source": [
        "import torch.nn as nn\n",
        "import torch.nn.functional as F\n",
        "\n",
        "# Define a basic neural network model\n",
        "# Architecture: 3 fully connected layers with ReLU activation\n",
        "# Input size: Number of features in the dataset\n",
        "# Hidden Layers: 64, 32 neurons respectively with ReLU activation function\n",
        "# Output size: 1 (roughness)\n",
        "class NeuralNetwork(nn.Module):\n",
        "    def __init__(self, input_size):\n",
        "        super(NeuralNetwork, self).__init__()\n",
        "        self.fc1 = nn.Linear(input_size, 64)\n",
        "        self.fc2 = nn.Linear(64, 32)\n",
        "        self.fc3 = nn.Linear(32, 1)\n",
        "\n",
        "    def forward(self, x):\n",
        "        x = F.relu(self.fc1(x))\n",
        "        x = F.relu(self.fc2(x))\n",
        "        x = self.fc3(x)\n",
        "        return x\n",
        "\n",
        "# Initialize the model\n",
        "model = NeuralNetwork(input_size=X_train.shape[1])\n",
        "print(model)"
      ]
    },
    {
      "cell_type": "markdown",
      "id": "c482ed2e",
      "metadata": {
        "id": "c482ed2e"
      },
      "source": [
        "### Step 4: Set Up the Training Process"
      ]
    },
    {
      "cell_type": "code",
      "execution_count": null,
      "id": "5669732b",
      "metadata": {
        "id": "5669732b"
      },
      "outputs": [],
      "source": [
        "import torch.optim as optim\n",
        "\n",
        "# Define loss function and optimizer for the neural network\n",
        "# Select Mean Squared Error Loss and Adam optimizer with a learning rate of 0.001\n",
        "criterion = nn.MSELoss()\n",
        "optimizer = optim.Adam(model.parameters(), lr=0.001)"
      ]
    },
    {
      "cell_type": "markdown",
      "id": "403243d0",
      "metadata": {
        "id": "403243d0"
      },
      "source": [
        "### Step 5: Train the Neural Network"
      ]
    },
    {
      "cell_type": "code",
      "execution_count": null,
      "id": "0cee6da7",
      "metadata": {
        "id": "0cee6da7"
      },
      "outputs": [],
      "source": [
        "# Training parameters\n",
        "num_epochs = 100\n",
        "train_losses = []\n",
        "\n",
        "# Training loop\n",
        "for epoch in range(num_epochs):\n",
        "    model.train()\n",
        "    running_loss = 0.0\n",
        "    for X_batch, y_batch in train_loader:\n",
        "        # Zero gradients\n",
        "        optimizer.zero_grad()\n",
        "\n",
        "        # Forward pass\n",
        "        outputs = model(X_batch)\n",
        "        loss = criterion(outputs, y_batch)\n",
        "\n",
        "        # Backward pass and optimization\n",
        "        loss.backward()\n",
        "        optimizer.step()\n",
        "\n",
        "        running_loss += loss.item()\n",
        "\n",
        "    # Average loss for the epoch\n",
        "    epoch_loss = running_loss / len(train_loader)\n",
        "    train_losses.append(epoch_loss)\n",
        "\n",
        "    if (epoch + 1) % 10 == 0:\n",
        "        print(f\"Epoch [{epoch + 1}/{num_epochs}], Loss: {epoch_loss:.4f}\")\n",
        "\n",
        "print(\"Training complete.\")"
      ]
    },
    {
      "cell_type": "markdown",
      "id": "07adcb25",
      "metadata": {
        "id": "07adcb25"
      },
      "source": [
        "### Step 6: Evaluate the Model"
      ]
    },
    {
      "cell_type": "code",
      "execution_count": null,
      "id": "07003d27",
      "metadata": {
        "id": "07003d27"
      },
      "outputs": [],
      "source": [
        "model.eval()\n",
        "test_loss = 0.0\n",
        "\n",
        "with torch.no_grad():\n",
        "    for X_batch, y_batch in test_loader:\n",
        "        outputs = model(X_batch)\n",
        "        loss = criterion(outputs, y_batch)\n",
        "        test_loss += loss.item()\n",
        "\n",
        "test_loss /= len(test_loader)\n",
        "print(f\"Test Loss: {test_loss:.4f}\")"
      ]
    },
    {
      "cell_type": "markdown",
      "id": "6811a5e9",
      "metadata": {
        "id": "6811a5e9"
      },
      "source": [
        "### Step 7: Visualize Training Loss"
      ]
    },
    {
      "cell_type": "code",
      "execution_count": null,
      "id": "3c3f32b8",
      "metadata": {
        "id": "3c3f32b8"
      },
      "outputs": [],
      "source": [
        "import matplotlib.pyplot as plt\n",
        "\n",
        "# Plot training loss over epochs\n",
        "plt.plot(train_losses, label=\"Training Loss\")\n",
        "plt.xlabel(\"Epoch\")\n",
        "plt.ylabel(\"MSE Loss\")\n",
        "plt.title(\"Training Loss over Epochs\")\n",
        "plt.legend()\n",
        "plt.show()"
      ]
    },
    {
      "cell_type": "markdown",
      "source": [
        "### Step 8: Evaluate Model"
      ],
      "metadata": {
        "id": "ZG73FMaCQmBv"
      },
      "id": "ZG73FMaCQmBv"
    },
    {
      "cell_type": "code",
      "execution_count": null,
      "id": "705cef84",
      "metadata": {
        "id": "705cef84"
      },
      "outputs": [],
      "source": [
        "# Ensure the model is in evaluation mode\n",
        "model.eval()\n",
        "\n",
        "# Convert the entire dataset (X_scaled) to a PyTorch tensor\n",
        "X_full_tensor = torch.tensor(X_scaled, dtype=torch.float32)\n",
        "\n",
        "# Get predictions on the full dataset\n",
        "with torch.no_grad():\n",
        "    predictions_full = model(X_full_tensor).squeeze().tolist()\n",
        "\n",
        "# Add predictions and calculate squared error (MSE) for each prediction\n",
        "data = data.dropna()\n",
        "data[\"Predicted_roughness\"] = predictions_full\n",
        "data[\"Squared_Error\"] = (data[\"roughness\"] - data[\"Predicted_roughness\"]) ** 2\n",
        "\n",
        "# Display the final DataFrame with all columns, predictions, and squared error (MSE)\n",
        "print(\"Final DataFrame with Predictions and MSE:\")\n",
        "display(data)"
      ]
    },
    {
      "cell_type": "code",
      "source": [
        "# Calculate and print the overall Mean Squared Error on the full dataset\n",
        "overall_mse = data[\"Squared_Error\"].mean()\n",
        "print(f\"Overall Mean Squared Error on Full Dataset: {overall_mse:.4f}\")"
      ],
      "metadata": {
        "id": "Ix-Pi3eKQtam"
      },
      "id": "Ix-Pi3eKQtam",
      "execution_count": null,
      "outputs": []
    },
    {
      "cell_type": "code",
      "execution_count": null,
      "id": "d37bedf4",
      "metadata": {
        "id": "d37bedf4"
      },
      "outputs": [],
      "source": [
        "# Visualization: Actual vs. Predicted\n",
        "plt.figure(figsize=(8, 6))\n",
        "plt.scatter(data[\"roughness\"], data[\"Predicted_roughness\"], alpha=0.7)\n",
        "plt.plot([data[\"roughness\"].min(), data[\"roughness\"].max()],\n",
        "         [data[\"roughness\"].min(), data[\"roughness\"].max()], 'r--', label='Ideal Fit')\n",
        "plt.title(\"Actual vs. Predicted Roughness\")\n",
        "plt.xlabel(\"Actual Roughness\")\n",
        "plt.ylabel(\"Predicted Roughness\")\n",
        "plt.legend()\n",
        "plt.grid()\n",
        "plt.show()"
      ]
    },
    {
      "cell_type": "code",
      "source": [
        "# Visualization: Residuals Histogram\n",
        "plt.figure(figsize=(8, 6))\n",
        "residuals = data[\"roughness\"] - data[\"Predicted_roughness\"]\n",
        "plt.hist(residuals, bins=30, alpha=0.7, edgecolor='k')\n",
        "plt.title(\"Residuals Distribution\")\n",
        "plt.xlabel(\"Residual (Actual - Predicted)\")\n",
        "plt.ylabel(\"Frequency\")\n",
        "plt.grid()\n",
        "plt.show()"
      ],
      "metadata": {
        "id": "pQp89LTzQZA5"
      },
      "id": "pQp89LTzQZA5",
      "execution_count": null,
      "outputs": []
    }
  ],
  "metadata": {
    "kernelspec": {
      "display_name": ".venv",
      "language": "python",
      "name": "python3"
    },
    "language_info": {
      "codemirror_mode": {
        "name": "ipython",
        "version": 3
      },
      "file_extension": ".py",
      "mimetype": "text/x-python",
      "name": "python",
      "nbconvert_exporter": "python",
      "pygments_lexer": "ipython3",
      "version": "3.11.0"
    },
    "colab": {
      "provenance": [],
      "include_colab_link": true
    }
  },
  "nbformat": 4,
  "nbformat_minor": 5
}